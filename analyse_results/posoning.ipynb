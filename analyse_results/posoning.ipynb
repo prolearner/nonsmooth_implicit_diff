{
 "cells": [
  {
   "cell_type": "code",
   "execution_count": null,
   "metadata": {},
   "outputs": [],
   "source": [
    "import sys\n",
    "import os\n",
    "import json\n",
    "\n",
    "import matplotlib.pyplot as plt\n",
    "import seaborn as sns\n",
    "import numpy as np\n",
    "\n",
    "  \n",
    "# append the path of the parent directory\n",
    "sys.path.append(\"..\")\n",
    "from nonsmooth_implicit_diff import plot_utils\n",
    "from nonsmooth_implicit_diff import utils\n",
    "from collections import defaultdict\n"
   ]
  },
  {
   "cell_type": "code",
   "execution_count": null,
   "metadata": {},
   "outputs": [],
   "source": [
    "def load_json_files(folder_path):\n",
    "    # Iterate through all subfolders in the given folder\n",
    "    exps = []\n",
    "    for root, dirs, files in os.walk(folder_path):\n",
    "        for subdir in dirs:\n",
    "            subfolder_path = os.path.join(root, subdir)\n",
    "            \n",
    "            # Load results.json\n",
    "            results_file_path = os.path.join(subfolder_path, 'results.json')\n",
    "            if os.path.exists(results_file_path):\n",
    "                with open(results_file_path, 'r') as results_file:\n",
    "                    results = json.load(results_file)\n",
    "                    print(f\"Loaded results.json from {subfolder_path}: {results}\")\n",
    "\n",
    "            # Load config.json\n",
    "            config_file_path = os.path.join(subfolder_path, 'conf.json')\n",
    "            if os.path.exists(config_file_path):\n",
    "                with open(config_file_path, 'r') as config_file:\n",
    "                    config = json.load(config_file)\n",
    "                    print(f\"Loaded conf.json from {subfolder_path}: {config}\")\n",
    "            exps.append(dict(config=config, results=results))\n",
    "    return exps\n",
    "\n",
    "folder_path = '../exps/data_poisoning_stochastic/'\n",
    "exps = load_json_files(folder_path)"
   ]
  },
  {
   "cell_type": "code",
   "execution_count": null,
   "metadata": {},
   "outputs": [],
   "source": [
    "exps[0]['results']['hg_results']['fixed'].keys()"
   ]
  },
  {
   "cell_type": "code",
   "execution_count": null,
   "metadata": {},
   "outputs": [],
   "source": [
    "def assert_equal_except_key(dict1, dict2, key_to_ignore):\n",
    "    def check_equal(v1, v2):\n",
    "        if isinstance(v1, list):\n",
    "            return True\n",
    "        if isinstance(v1, float):\n",
    "            return abs(v1-v2)/max(abs(v1),abs(v2)) < 1\n",
    "        else:\n",
    "            return v1==v2\n",
    "\n",
    "    # assert dict1.keys() == dict2.keys()\n",
    "    for k, v in dict1.items():\n",
    "        if k in dict2:\n",
    "            if k != key_to_ignore:\n",
    "                assert check_equal(v,dict2[k]), f\"Values for key {k} not equal! {v}, {dict2[k]}\"\n",
    "\n",
    "\n",
    "# Preprocess: group the seeds\n",
    "e1 = exps[0]\n",
    "conf = e1['config']\n",
    "\n",
    "for e in exps:\n",
    "    c, r = e['config'], e['results']\n",
    "    assert_equal_except_key(conf, c, \"random_state\") \n",
    "\n",
    "hg_results = dict()\n",
    "for method_name, metrics_dict in e1['results']['hg_results'].items():\n",
    "    hg_results[method_name] = defaultdict(list)\n",
    "    for metric_name in metrics_dict:\n",
    "        for e in exps:\n",
    "            c, r = e['config'], e['results']\n",
    "            hg_results[method_name][metric_name].append(r['hg_results'][method_name][metric_name])\n",
    "        \n",
    "        hg_results[method_name][metric_name] = np.array(hg_results[method_name][metric_name])\n",
    "hg_results.keys()\n"
   ]
  },
  {
   "cell_type": "code",
   "execution_count": null,
   "metadata": {},
   "outputs": [],
   "source": [
    "hg_results['fixed'].keys()"
   ]
  },
  {
   "cell_type": "code",
   "execution_count": null,
   "metadata": {},
   "outputs": [],
   "source": [
    "# Sample data for the two line plots\n",
    "config = exps[0]['config']\n",
    "hparams = dict(alpha_l1=config['alpha_l1'], alpha_l2=config['alpha_l2'])\n",
    "print(hparams)\n",
    "\n",
    "lines_to_plot = (\n",
    "    # ('ITD', hg_results['reverse'], 'solid'),\n",
    "    # ('AID-CG', hg_results['CG'], 'solid'),\n",
    "    ('AID-FP', hg_results['fixed'], 'solid'),\n",
    "    ('NSID dec', hg_results['fixed_stoch_dec'], 'dashed'),\n",
    "    ('NSID const', hg_results['fixed_stoch_const'], 'dotted'),\n",
    "    # ('SID dec', hg_results['fixed_stoch_dec_no_g'], 'dotted'),\n",
    "    # ('SID const', hg_results['fixed_stoch_const_no_g'], 'dashed'),\n",
    ")\n",
    "\n",
    "metrics = (\n",
    "    ('norm_diff', 'Approximation error'),\n",
    "    ('norm_diff_norm', 'Normalized approx. error'),\n",
    ")\n",
    "\n",
    "\n",
    "mult_size=1.2\n",
    "for metric, metric_name in metrics:\n",
    "    fig, ax = plt.subplots(figsize=(3*mult_size, 3*mult_size))\n",
    "    \n",
    "    for (name, res, style) in lines_to_plot:\n",
    "        t = res['t'].mean(axis=0)\n",
    "        n_samples = res['n_samples'].mean(axis=0)\n",
    "        n_epochs = n_samples/int(config['n_samples']*(1-config['val_size']))\n",
    "        # n_epochs = n_samples/10000\n",
    "        \n",
    "        line = res[metric]\n",
    "        line_mean = line.mean(axis=0)\n",
    "        \n",
    "        \n",
    "        # Calculate geometric standard deviation\n",
    "        y_gstd = np.exp(np.std(np.log(line), axis=0))\n",
    "\n",
    "        y_10th = np.percentile(line, 30, axis=0)\n",
    "        y_90th = np.percentile(line, 70, axis=0)\n",
    "        ax.plot(n_epochs, line_mean, label=name, linestyle=style, marker=\"o\")\n",
    "        ax.fill_between(n_epochs, line_mean/y_gstd, line_mean*y_gstd, alpha=0.2)\n",
    "\n",
    "\n",
    "    ax.set_yscale('log')\n",
    "    ax.set_title(f\"Data Poisoning. $\\lambda = ({config['alpha_l1']}, {config['alpha_l2']})$\")\n",
    "    \n",
    "    ax.set_xlabel('# of epochs')\n",
    "    # ax.set_ylabel(metric_name)\n",
    "    ax.set_xlim((-1, 200))\n",
    "    if metric==\"norm_diff_norm\":\n",
    "        ax.set_ylim((7e-2, 1.1e0))\n",
    "    elif metric==\"norm_diff\":\n",
    "        ax.set_ylim((5e-5,7e-4))\n",
    "\n",
    "    \n",
    "\n",
    "    ax.legend()\n",
    "    plt.tight_layout()\n",
    "    #plt.savefig(f'poisoning_al1_{hparams[\"alpha_l1\"]}_al2_{hparams[\"alpha_l2\"]}_{metric}.pdf')\n",
    "\n",
    "    plt.show()"
   ]
  },
  {
   "cell_type": "code",
   "execution_count": null,
   "metadata": {},
   "outputs": [],
   "source": [
    "config['n_samples']*(1-config['val_size'] - config['test_size'])"
   ]
  },
  {
   "cell_type": "code",
   "execution_count": null,
   "metadata": {},
   "outputs": [],
   "source": [
    "print(len(t), len(n_samples), len(line_mean))"
   ]
  },
  {
   "cell_type": "code",
   "execution_count": null,
   "metadata": {},
   "outputs": [],
   "source": []
  }
 ],
 "metadata": {
  "kernelspec": {
   "display_name": "bilevel_non_smoothe",
   "language": "python",
   "name": "python3"
  },
  "language_info": {
   "codemirror_mode": {
    "name": "ipython",
    "version": 3
   },
   "file_extension": ".py",
   "mimetype": "text/x-python",
   "name": "python",
   "nbconvert_exporter": "python",
   "pygments_lexer": "ipython3",
   "version": "3.11.9"
  }
 },
 "nbformat": 4,
 "nbformat_minor": 2
}
